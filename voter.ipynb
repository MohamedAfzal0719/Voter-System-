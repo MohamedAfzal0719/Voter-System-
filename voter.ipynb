{
  "cells": [
    {
      "cell_type": "code",
      "execution_count": 1,
      "id": "5300a448-3033-4c34-8120-f329e562502f",
      "metadata": {
        "trusted": true
      },
      "outputs": [
        {
          "name": "stdout",
          "output_type": "stream",
          "text": [
            "🗳 Welcome to Blockchain Voting System 🗳\n"
          ]
        },
        {
          "name": "stdout",
          "output_type": "stream",
          "text": [
            "Enter number of voters:  3\n",
            "\n",
            "Enter Voter ID for Voter 1:  v1\n",
            "Enter candidate name:  sma\n"
          ]
        },
        {
          "name": "stdout",
          "output_type": "stream",
          "text": [
            "✅ Vote added successfully!\n"
          ]
        },
        {
          "name": "stdout",
          "output_type": "stream",
          "text": [
            "\n",
            "Enter Voter ID for Voter 2:  v2\n",
            "Enter candidate name:  sowmi\n"
          ]
        },
        {
          "name": "stdout",
          "output_type": "stream",
          "text": [
            "✅ Vote added successfully!\n"
          ]
        },
        {
          "name": "stdout",
          "output_type": "stream",
          "text": [
            "\n",
            "Enter Voter ID for Voter 3:  v3\n",
            "Enter candidate name:  afzal\n"
          ]
        },
        {
          "name": "stdout",
          "output_type": "stream",
          "text": [
            "✅ Vote added successfully!\n",
            "\n",
            "--- Blockchain Votes ---\n",
            "\n",
            "Index: 0\n",
            "Data: Genesis Block\n",
            "Hash: 100ab40b4eb39ead80e2 ...\n",
            "Prev Hash: 0 ...\n",
            "\n",
            "Index: 1\n",
            "Data: {'voter_id': 'v1', 'candidate': 'sma'}\n",
            "Hash: 859ae3ea47198f2aac1b ...\n",
            "Prev Hash: 100ab40b4eb39ead80e2 ...\n",
            "\n",
            "Index: 2\n",
            "Data: {'voter_id': 'v2', 'candidate': 'sowmi'}\n",
            "Hash: 76aecdd4fb67e30ae2e6 ...\n",
            "Prev Hash: 859ae3ea47198f2aac1b ...\n",
            "\n",
            "Index: 3\n",
            "Data: {'voter_id': 'v3', 'candidate': 'afzal'}\n",
            "Hash: fda1db6bac34f5238120 ...\n",
            "Prev Hash: 76aecdd4fb67e30ae2e6 ...\n",
            "\n",
            "--- Voting Results ---\n",
            "sma: 1 votes\n",
            "sowmi: 1 votes\n",
            "afzal: 1 votes\n",
            "\n",
            "Blockchain valid? True\n"
          ]
        }
      ],
      "source": [
        "import hashlib\n",
        "import time\n",
        "\n",
        "class Block:\n",
        "    def __init__(self, index, timestamp, data, previous_hash):\n",
        "        self.index = index\n",
        "        self.timestamp = timestamp\n",
        "        self.data = data   # vote data\n",
        "        self.previous_hash = previous_hash\n",
        "        self.hash = self.calculate_hash()\n",
        "\n",
        "    def calculate_hash(self):\n",
        "        block_str = str(self.index) + str(self.timestamp) + str(self.data) + str(self.previous_hash)\n",
        "        return hashlib.sha256(block_str.encode()).hexdigest()\n",
        "\n",
        "class Blockchain:\n",
        "    def __init__(self):\n",
        "        self.chain = [self.create_genesis_block()]\n",
        "\n",
        "    def create_genesis_block(self):\n",
        "        return Block(0, time.time(), \"Genesis Block\", \"0\")\n",
        "\n",
        "    def get_latest_block(self):\n",
        "        return self.chain[-1]\n",
        "\n",
        "    def add_vote(self, voter_id, candidate):\n",
        "        vote_data = {\"voter_id\": voter_id, \"candidate\": candidate}\n",
        "        prev_block = self.get_latest_block()\n",
        "        new_block = Block(len(self.chain), time.time(), vote_data, prev_block.hash)\n",
        "        self.chain.append(new_block)\n",
        "\n",
        "    def is_chain_valid(self):\n",
        "        for i in range(1, len(self.chain)):\n",
        "            curr = self.chain[i]\n",
        "            prev = self.chain[i - 1]\n",
        "            if curr.hash != curr.calculate_hash():\n",
        "                return False\n",
        "            if curr.previous_hash != prev.hash:\n",
        "                return False\n",
        "        return True\n",
        "\n",
        "    def show_results(self):\n",
        "        results = {}\n",
        "        for block in self.chain[1:]:  # skip Genesis block\n",
        "            candidate = block.data[\"candidate\"]\n",
        "            results[candidate] = results.get(candidate, 0) + 1\n",
        "        return results\n",
        "\n",
        "\n",
        "# ------------------------\n",
        "# Voting System with User Input\n",
        "# ------------------------\n",
        "voting_chain = Blockchain()\n",
        "\n",
        "print(\"🗳 Welcome to Blockchain Voting System 🗳\")\n",
        "num_votes = int(input(\"Enter number of voters: \"))\n",
        "\n",
        "for i in range(num_votes):\n",
        "    voter_id = input(f\"\\nEnter Voter ID for Voter {i+1}: \")\n",
        "    candidate = input(\"Enter candidate name: \")\n",
        "    voting_chain.add_vote(voter_id, candidate)\n",
        "    print(\"✅ Vote added successfully!\")\n",
        "\n",
        "# Show all votes stored in blockchain\n",
        "print(\"\\n--- Blockchain Votes ---\")\n",
        "for block in voting_chain.chain:\n",
        "    print(f\"\\nIndex: {block.index}\")\n",
        "    print(\"Data:\", block.data)\n",
        "    print(\"Hash:\", block.hash[:20], \"...\")\n",
        "    print(\"Prev Hash:\", block.previous_hash[:20], \"...\")\n",
        "\n",
        "# Show results\n",
        "print(\"\\n--- Voting Results ---\")\n",
        "results = voting_chain.show_results()\n",
        "for candidate, count in results.items():\n",
        "    print(f\"{candidate}: {count} votes\")\n",
        "\n",
        "# Validate blockchain\n",
        "print(\"\\nBlockchain valid?\", voting_chain.is_chain_valid())\n"
      ]
    },
    {
      "cell_type": "code",
      "execution_count": null,
      "id": "7f062a2b-826d-4bb9-8006-80ebb2ae157d",
      "metadata": {
        "trusted": true
      },
      "outputs": [],
      "source": []
    }
  ],
  "metadata": {
    "kernelspec": {
      "display_name": "Python (Pyodide)",
      "language": "python",
      "name": "python"
    },
    "language_info": {
      "codemirror_mode": {
        "name": "python",
        "version": 3
      },
      "file_extension": ".py",
      "mimetype": "text/x-python",
      "name": "python",
      "nbconvert_exporter": "python",
      "pygments_lexer": "ipython3",
      "version": "3.8"
    }
  },
  "nbformat": 4,
  "nbformat_minor": 5
}
